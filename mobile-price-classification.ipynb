{
 "cells": [
  {
   "cell_type": "markdown",
   "id": "a7a5d363",
   "metadata": {
    "papermill": {
     "duration": 0.016631,
     "end_time": "2022-09-04T22:32:24.711577",
     "exception": false,
     "start_time": "2022-09-04T22:32:24.694946",
     "status": "completed"
    },
    "tags": []
   },
   "source": [
    "# Import library"
   ]
  },
  {
   "cell_type": "code",
   "execution_count": 1,
   "id": "46b37455",
   "metadata": {
    "execution": {
     "iopub.execute_input": "2022-09-04T22:32:24.745492Z",
     "iopub.status.busy": "2022-09-04T22:32:24.744597Z",
     "iopub.status.idle": "2022-09-04T22:32:25.675275Z",
     "shell.execute_reply": "2022-09-04T22:32:25.674314Z"
    },
    "papermill": {
     "duration": 0.95005,
     "end_time": "2022-09-04T22:32:25.677879",
     "exception": false,
     "start_time": "2022-09-04T22:32:24.727829",
     "status": "completed"
    },
    "tags": []
   },
   "outputs": [],
   "source": [
    "import numpy as np\n",
    "import pandas as pd \n",
    "import matplotlib.pyplot as plt\n",
    "import seaborn as sns\n",
    "import warnings\n",
    "warnings.filterwarnings('ignore')"
   ]
  },
  {
   "cell_type": "markdown",
   "id": "ee147618",
   "metadata": {
    "papermill": {
     "duration": 0.011297,
     "end_time": "2022-09-04T22:32:25.699263",
     "exception": false,
     "start_time": "2022-09-04T22:32:25.687966",
     "status": "completed"
    },
    "tags": []
   },
   "source": [
    "# Load Data"
   ]
  },
  {
   "cell_type": "code",
   "execution_count": 2,
   "id": "283f4375",
   "metadata": {
    "execution": {
     "iopub.execute_input": "2022-09-04T22:32:25.719938Z",
     "iopub.status.busy": "2022-09-04T22:32:25.719625Z",
     "iopub.status.idle": "2022-09-04T22:32:25.744618Z",
     "shell.execute_reply": "2022-09-04T22:32:25.743684Z"
    },
    "papermill": {
     "duration": 0.037923,
     "end_time": "2022-09-04T22:32:25.746857",
     "exception": false,
     "start_time": "2022-09-04T22:32:25.708934",
     "status": "completed"
    },
    "tags": []
   },
   "outputs": [],
   "source": [
    "data  = pd.read_csv('../input/mobile-price-classification/train.csv')"
   ]
  },
  {
   "cell_type": "markdown",
   "id": "309a5d58",
   "metadata": {
    "papermill": {
     "duration": 0.009438,
     "end_time": "2022-09-04T22:32:25.767063",
     "exception": false,
     "start_time": "2022-09-04T22:32:25.757625",
     "status": "completed"
    },
    "tags": []
   },
   "source": [
    "# Data Analysis"
   ]
  },
  {
   "cell_type": "code",
   "execution_count": 3,
   "id": "e93d58d7",
   "metadata": {
    "execution": {
     "iopub.execute_input": "2022-09-04T22:32:25.787615Z",
     "iopub.status.busy": "2022-09-04T22:32:25.787269Z",
     "iopub.status.idle": "2022-09-04T22:32:25.816492Z",
     "shell.execute_reply": "2022-09-04T22:32:25.815320Z"
    },
    "papermill": {
     "duration": 0.043039,
     "end_time": "2022-09-04T22:32:25.819659",
     "exception": false,
     "start_time": "2022-09-04T22:32:25.776620",
     "status": "completed"
    },
    "tags": []
   },
   "outputs": [
    {
     "data": {
      "text/html": [
       "<div>\n",
       "<style scoped>\n",
       "    .dataframe tbody tr th:only-of-type {\n",
       "        vertical-align: middle;\n",
       "    }\n",
       "\n",
       "    .dataframe tbody tr th {\n",
       "        vertical-align: top;\n",
       "    }\n",
       "\n",
       "    .dataframe thead th {\n",
       "        text-align: right;\n",
       "    }\n",
       "</style>\n",
       "<table border=\"1\" class=\"dataframe\">\n",
       "  <thead>\n",
       "    <tr style=\"text-align: right;\">\n",
       "      <th></th>\n",
       "      <th>battery_power</th>\n",
       "      <th>blue</th>\n",
       "      <th>clock_speed</th>\n",
       "      <th>dual_sim</th>\n",
       "      <th>fc</th>\n",
       "      <th>four_g</th>\n",
       "      <th>int_memory</th>\n",
       "      <th>m_dep</th>\n",
       "      <th>mobile_wt</th>\n",
       "      <th>n_cores</th>\n",
       "      <th>...</th>\n",
       "      <th>px_height</th>\n",
       "      <th>px_width</th>\n",
       "      <th>ram</th>\n",
       "      <th>sc_h</th>\n",
       "      <th>sc_w</th>\n",
       "      <th>talk_time</th>\n",
       "      <th>three_g</th>\n",
       "      <th>touch_screen</th>\n",
       "      <th>wifi</th>\n",
       "      <th>price_range</th>\n",
       "    </tr>\n",
       "  </thead>\n",
       "  <tbody>\n",
       "    <tr>\n",
       "      <th>0</th>\n",
       "      <td>842</td>\n",
       "      <td>0</td>\n",
       "      <td>2.2</td>\n",
       "      <td>0</td>\n",
       "      <td>1</td>\n",
       "      <td>0</td>\n",
       "      <td>7</td>\n",
       "      <td>0.6</td>\n",
       "      <td>188</td>\n",
       "      <td>2</td>\n",
       "      <td>...</td>\n",
       "      <td>20</td>\n",
       "      <td>756</td>\n",
       "      <td>2549</td>\n",
       "      <td>9</td>\n",
       "      <td>7</td>\n",
       "      <td>19</td>\n",
       "      <td>0</td>\n",
       "      <td>0</td>\n",
       "      <td>1</td>\n",
       "      <td>1</td>\n",
       "    </tr>\n",
       "    <tr>\n",
       "      <th>1</th>\n",
       "      <td>1021</td>\n",
       "      <td>1</td>\n",
       "      <td>0.5</td>\n",
       "      <td>1</td>\n",
       "      <td>0</td>\n",
       "      <td>1</td>\n",
       "      <td>53</td>\n",
       "      <td>0.7</td>\n",
       "      <td>136</td>\n",
       "      <td>3</td>\n",
       "      <td>...</td>\n",
       "      <td>905</td>\n",
       "      <td>1988</td>\n",
       "      <td>2631</td>\n",
       "      <td>17</td>\n",
       "      <td>3</td>\n",
       "      <td>7</td>\n",
       "      <td>1</td>\n",
       "      <td>1</td>\n",
       "      <td>0</td>\n",
       "      <td>2</td>\n",
       "    </tr>\n",
       "    <tr>\n",
       "      <th>2</th>\n",
       "      <td>563</td>\n",
       "      <td>1</td>\n",
       "      <td>0.5</td>\n",
       "      <td>1</td>\n",
       "      <td>2</td>\n",
       "      <td>1</td>\n",
       "      <td>41</td>\n",
       "      <td>0.9</td>\n",
       "      <td>145</td>\n",
       "      <td>5</td>\n",
       "      <td>...</td>\n",
       "      <td>1263</td>\n",
       "      <td>1716</td>\n",
       "      <td>2603</td>\n",
       "      <td>11</td>\n",
       "      <td>2</td>\n",
       "      <td>9</td>\n",
       "      <td>1</td>\n",
       "      <td>1</td>\n",
       "      <td>0</td>\n",
       "      <td>2</td>\n",
       "    </tr>\n",
       "    <tr>\n",
       "      <th>3</th>\n",
       "      <td>615</td>\n",
       "      <td>1</td>\n",
       "      <td>2.5</td>\n",
       "      <td>0</td>\n",
       "      <td>0</td>\n",
       "      <td>0</td>\n",
       "      <td>10</td>\n",
       "      <td>0.8</td>\n",
       "      <td>131</td>\n",
       "      <td>6</td>\n",
       "      <td>...</td>\n",
       "      <td>1216</td>\n",
       "      <td>1786</td>\n",
       "      <td>2769</td>\n",
       "      <td>16</td>\n",
       "      <td>8</td>\n",
       "      <td>11</td>\n",
       "      <td>1</td>\n",
       "      <td>0</td>\n",
       "      <td>0</td>\n",
       "      <td>2</td>\n",
       "    </tr>\n",
       "    <tr>\n",
       "      <th>4</th>\n",
       "      <td>1821</td>\n",
       "      <td>1</td>\n",
       "      <td>1.2</td>\n",
       "      <td>0</td>\n",
       "      <td>13</td>\n",
       "      <td>1</td>\n",
       "      <td>44</td>\n",
       "      <td>0.6</td>\n",
       "      <td>141</td>\n",
       "      <td>2</td>\n",
       "      <td>...</td>\n",
       "      <td>1208</td>\n",
       "      <td>1212</td>\n",
       "      <td>1411</td>\n",
       "      <td>8</td>\n",
       "      <td>2</td>\n",
       "      <td>15</td>\n",
       "      <td>1</td>\n",
       "      <td>1</td>\n",
       "      <td>0</td>\n",
       "      <td>1</td>\n",
       "    </tr>\n",
       "  </tbody>\n",
       "</table>\n",
       "<p>5 rows × 21 columns</p>\n",
       "</div>"
      ],
      "text/plain": [
       "   battery_power  blue  clock_speed  dual_sim  fc  four_g  int_memory  m_dep  \\\n",
       "0            842     0          2.2         0   1       0           7    0.6   \n",
       "1           1021     1          0.5         1   0       1          53    0.7   \n",
       "2            563     1          0.5         1   2       1          41    0.9   \n",
       "3            615     1          2.5         0   0       0          10    0.8   \n",
       "4           1821     1          1.2         0  13       1          44    0.6   \n",
       "\n",
       "   mobile_wt  n_cores  ...  px_height  px_width   ram  sc_h  sc_w  talk_time  \\\n",
       "0        188        2  ...         20       756  2549     9     7         19   \n",
       "1        136        3  ...        905      1988  2631    17     3          7   \n",
       "2        145        5  ...       1263      1716  2603    11     2          9   \n",
       "3        131        6  ...       1216      1786  2769    16     8         11   \n",
       "4        141        2  ...       1208      1212  1411     8     2         15   \n",
       "\n",
       "   three_g  touch_screen  wifi  price_range  \n",
       "0        0             0     1            1  \n",
       "1        1             1     0            2  \n",
       "2        1             1     0            2  \n",
       "3        1             0     0            2  \n",
       "4        1             1     0            1  \n",
       "\n",
       "[5 rows x 21 columns]"
      ]
     },
     "execution_count": 3,
     "metadata": {},
     "output_type": "execute_result"
    }
   ],
   "source": [
    "data.head()"
   ]
  },
  {
   "cell_type": "code",
   "execution_count": 4,
   "id": "31c6850b",
   "metadata": {
    "execution": {
     "iopub.execute_input": "2022-09-04T22:32:25.842663Z",
     "iopub.status.busy": "2022-09-04T22:32:25.841132Z",
     "iopub.status.idle": "2022-09-04T22:32:25.863943Z",
     "shell.execute_reply": "2022-09-04T22:32:25.862892Z"
    },
    "papermill": {
     "duration": 0.036684,
     "end_time": "2022-09-04T22:32:25.866767",
     "exception": false,
     "start_time": "2022-09-04T22:32:25.830083",
     "status": "completed"
    },
    "tags": []
   },
   "outputs": [
    {
     "name": "stdout",
     "output_type": "stream",
     "text": [
      "<class 'pandas.core.frame.DataFrame'>\n",
      "RangeIndex: 2000 entries, 0 to 1999\n",
      "Data columns (total 21 columns):\n",
      " #   Column         Non-Null Count  Dtype  \n",
      "---  ------         --------------  -----  \n",
      " 0   battery_power  2000 non-null   int64  \n",
      " 1   blue           2000 non-null   int64  \n",
      " 2   clock_speed    2000 non-null   float64\n",
      " 3   dual_sim       2000 non-null   int64  \n",
      " 4   fc             2000 non-null   int64  \n",
      " 5   four_g         2000 non-null   int64  \n",
      " 6   int_memory     2000 non-null   int64  \n",
      " 7   m_dep          2000 non-null   float64\n",
      " 8   mobile_wt      2000 non-null   int64  \n",
      " 9   n_cores        2000 non-null   int64  \n",
      " 10  pc             2000 non-null   int64  \n",
      " 11  px_height      2000 non-null   int64  \n",
      " 12  px_width       2000 non-null   int64  \n",
      " 13  ram            2000 non-null   int64  \n",
      " 14  sc_h           2000 non-null   int64  \n",
      " 15  sc_w           2000 non-null   int64  \n",
      " 16  talk_time      2000 non-null   int64  \n",
      " 17  three_g        2000 non-null   int64  \n",
      " 18  touch_screen   2000 non-null   int64  \n",
      " 19  wifi           2000 non-null   int64  \n",
      " 20  price_range    2000 non-null   int64  \n",
      "dtypes: float64(2), int64(19)\n",
      "memory usage: 328.2 KB\n"
     ]
    }
   ],
   "source": [
    "data .info()"
   ]
  },
  {
   "cell_type": "code",
   "execution_count": 5,
   "id": "e865c9d1",
   "metadata": {
    "execution": {
     "iopub.execute_input": "2022-09-04T22:32:25.891671Z",
     "iopub.status.busy": "2022-09-04T22:32:25.890007Z",
     "iopub.status.idle": "2022-09-04T22:32:25.958824Z",
     "shell.execute_reply": "2022-09-04T22:32:25.957701Z"
    },
    "papermill": {
     "duration": 0.082349,
     "end_time": "2022-09-04T22:32:25.961040",
     "exception": false,
     "start_time": "2022-09-04T22:32:25.878691",
     "status": "completed"
    },
    "tags": []
   },
   "outputs": [
    {
     "data": {
      "text/html": [
       "<div>\n",
       "<style scoped>\n",
       "    .dataframe tbody tr th:only-of-type {\n",
       "        vertical-align: middle;\n",
       "    }\n",
       "\n",
       "    .dataframe tbody tr th {\n",
       "        vertical-align: top;\n",
       "    }\n",
       "\n",
       "    .dataframe thead th {\n",
       "        text-align: right;\n",
       "    }\n",
       "</style>\n",
       "<table border=\"1\" class=\"dataframe\">\n",
       "  <thead>\n",
       "    <tr style=\"text-align: right;\">\n",
       "      <th></th>\n",
       "      <th>battery_power</th>\n",
       "      <th>blue</th>\n",
       "      <th>clock_speed</th>\n",
       "      <th>dual_sim</th>\n",
       "      <th>fc</th>\n",
       "      <th>four_g</th>\n",
       "      <th>int_memory</th>\n",
       "      <th>m_dep</th>\n",
       "      <th>mobile_wt</th>\n",
       "      <th>n_cores</th>\n",
       "      <th>...</th>\n",
       "      <th>px_height</th>\n",
       "      <th>px_width</th>\n",
       "      <th>ram</th>\n",
       "      <th>sc_h</th>\n",
       "      <th>sc_w</th>\n",
       "      <th>talk_time</th>\n",
       "      <th>three_g</th>\n",
       "      <th>touch_screen</th>\n",
       "      <th>wifi</th>\n",
       "      <th>price_range</th>\n",
       "    </tr>\n",
       "  </thead>\n",
       "  <tbody>\n",
       "    <tr>\n",
       "      <th>count</th>\n",
       "      <td>2000.000000</td>\n",
       "      <td>2000.0000</td>\n",
       "      <td>2000.000000</td>\n",
       "      <td>2000.000000</td>\n",
       "      <td>2000.000000</td>\n",
       "      <td>2000.000000</td>\n",
       "      <td>2000.000000</td>\n",
       "      <td>2000.000000</td>\n",
       "      <td>2000.000000</td>\n",
       "      <td>2000.000000</td>\n",
       "      <td>...</td>\n",
       "      <td>2000.000000</td>\n",
       "      <td>2000.000000</td>\n",
       "      <td>2000.000000</td>\n",
       "      <td>2000.000000</td>\n",
       "      <td>2000.000000</td>\n",
       "      <td>2000.000000</td>\n",
       "      <td>2000.000000</td>\n",
       "      <td>2000.000000</td>\n",
       "      <td>2000.000000</td>\n",
       "      <td>2000.000000</td>\n",
       "    </tr>\n",
       "    <tr>\n",
       "      <th>mean</th>\n",
       "      <td>1238.518500</td>\n",
       "      <td>0.4950</td>\n",
       "      <td>1.522250</td>\n",
       "      <td>0.509500</td>\n",
       "      <td>4.309500</td>\n",
       "      <td>0.521500</td>\n",
       "      <td>32.046500</td>\n",
       "      <td>0.501750</td>\n",
       "      <td>140.249000</td>\n",
       "      <td>4.520500</td>\n",
       "      <td>...</td>\n",
       "      <td>645.108000</td>\n",
       "      <td>1251.515500</td>\n",
       "      <td>2124.213000</td>\n",
       "      <td>12.306500</td>\n",
       "      <td>5.767000</td>\n",
       "      <td>11.011000</td>\n",
       "      <td>0.761500</td>\n",
       "      <td>0.503000</td>\n",
       "      <td>0.507000</td>\n",
       "      <td>1.500000</td>\n",
       "    </tr>\n",
       "    <tr>\n",
       "      <th>std</th>\n",
       "      <td>439.418206</td>\n",
       "      <td>0.5001</td>\n",
       "      <td>0.816004</td>\n",
       "      <td>0.500035</td>\n",
       "      <td>4.341444</td>\n",
       "      <td>0.499662</td>\n",
       "      <td>18.145715</td>\n",
       "      <td>0.288416</td>\n",
       "      <td>35.399655</td>\n",
       "      <td>2.287837</td>\n",
       "      <td>...</td>\n",
       "      <td>443.780811</td>\n",
       "      <td>432.199447</td>\n",
       "      <td>1084.732044</td>\n",
       "      <td>4.213245</td>\n",
       "      <td>4.356398</td>\n",
       "      <td>5.463955</td>\n",
       "      <td>0.426273</td>\n",
       "      <td>0.500116</td>\n",
       "      <td>0.500076</td>\n",
       "      <td>1.118314</td>\n",
       "    </tr>\n",
       "    <tr>\n",
       "      <th>min</th>\n",
       "      <td>501.000000</td>\n",
       "      <td>0.0000</td>\n",
       "      <td>0.500000</td>\n",
       "      <td>0.000000</td>\n",
       "      <td>0.000000</td>\n",
       "      <td>0.000000</td>\n",
       "      <td>2.000000</td>\n",
       "      <td>0.100000</td>\n",
       "      <td>80.000000</td>\n",
       "      <td>1.000000</td>\n",
       "      <td>...</td>\n",
       "      <td>0.000000</td>\n",
       "      <td>500.000000</td>\n",
       "      <td>256.000000</td>\n",
       "      <td>5.000000</td>\n",
       "      <td>0.000000</td>\n",
       "      <td>2.000000</td>\n",
       "      <td>0.000000</td>\n",
       "      <td>0.000000</td>\n",
       "      <td>0.000000</td>\n",
       "      <td>0.000000</td>\n",
       "    </tr>\n",
       "    <tr>\n",
       "      <th>25%</th>\n",
       "      <td>851.750000</td>\n",
       "      <td>0.0000</td>\n",
       "      <td>0.700000</td>\n",
       "      <td>0.000000</td>\n",
       "      <td>1.000000</td>\n",
       "      <td>0.000000</td>\n",
       "      <td>16.000000</td>\n",
       "      <td>0.200000</td>\n",
       "      <td>109.000000</td>\n",
       "      <td>3.000000</td>\n",
       "      <td>...</td>\n",
       "      <td>282.750000</td>\n",
       "      <td>874.750000</td>\n",
       "      <td>1207.500000</td>\n",
       "      <td>9.000000</td>\n",
       "      <td>2.000000</td>\n",
       "      <td>6.000000</td>\n",
       "      <td>1.000000</td>\n",
       "      <td>0.000000</td>\n",
       "      <td>0.000000</td>\n",
       "      <td>0.750000</td>\n",
       "    </tr>\n",
       "    <tr>\n",
       "      <th>50%</th>\n",
       "      <td>1226.000000</td>\n",
       "      <td>0.0000</td>\n",
       "      <td>1.500000</td>\n",
       "      <td>1.000000</td>\n",
       "      <td>3.000000</td>\n",
       "      <td>1.000000</td>\n",
       "      <td>32.000000</td>\n",
       "      <td>0.500000</td>\n",
       "      <td>141.000000</td>\n",
       "      <td>4.000000</td>\n",
       "      <td>...</td>\n",
       "      <td>564.000000</td>\n",
       "      <td>1247.000000</td>\n",
       "      <td>2146.500000</td>\n",
       "      <td>12.000000</td>\n",
       "      <td>5.000000</td>\n",
       "      <td>11.000000</td>\n",
       "      <td>1.000000</td>\n",
       "      <td>1.000000</td>\n",
       "      <td>1.000000</td>\n",
       "      <td>1.500000</td>\n",
       "    </tr>\n",
       "    <tr>\n",
       "      <th>75%</th>\n",
       "      <td>1615.250000</td>\n",
       "      <td>1.0000</td>\n",
       "      <td>2.200000</td>\n",
       "      <td>1.000000</td>\n",
       "      <td>7.000000</td>\n",
       "      <td>1.000000</td>\n",
       "      <td>48.000000</td>\n",
       "      <td>0.800000</td>\n",
       "      <td>170.000000</td>\n",
       "      <td>7.000000</td>\n",
       "      <td>...</td>\n",
       "      <td>947.250000</td>\n",
       "      <td>1633.000000</td>\n",
       "      <td>3064.500000</td>\n",
       "      <td>16.000000</td>\n",
       "      <td>9.000000</td>\n",
       "      <td>16.000000</td>\n",
       "      <td>1.000000</td>\n",
       "      <td>1.000000</td>\n",
       "      <td>1.000000</td>\n",
       "      <td>2.250000</td>\n",
       "    </tr>\n",
       "    <tr>\n",
       "      <th>max</th>\n",
       "      <td>1998.000000</td>\n",
       "      <td>1.0000</td>\n",
       "      <td>3.000000</td>\n",
       "      <td>1.000000</td>\n",
       "      <td>19.000000</td>\n",
       "      <td>1.000000</td>\n",
       "      <td>64.000000</td>\n",
       "      <td>1.000000</td>\n",
       "      <td>200.000000</td>\n",
       "      <td>8.000000</td>\n",
       "      <td>...</td>\n",
       "      <td>1960.000000</td>\n",
       "      <td>1998.000000</td>\n",
       "      <td>3998.000000</td>\n",
       "      <td>19.000000</td>\n",
       "      <td>18.000000</td>\n",
       "      <td>20.000000</td>\n",
       "      <td>1.000000</td>\n",
       "      <td>1.000000</td>\n",
       "      <td>1.000000</td>\n",
       "      <td>3.000000</td>\n",
       "    </tr>\n",
       "  </tbody>\n",
       "</table>\n",
       "<p>8 rows × 21 columns</p>\n",
       "</div>"
      ],
      "text/plain": [
       "       battery_power       blue  clock_speed     dual_sim           fc  \\\n",
       "count    2000.000000  2000.0000  2000.000000  2000.000000  2000.000000   \n",
       "mean     1238.518500     0.4950     1.522250     0.509500     4.309500   \n",
       "std       439.418206     0.5001     0.816004     0.500035     4.341444   \n",
       "min       501.000000     0.0000     0.500000     0.000000     0.000000   \n",
       "25%       851.750000     0.0000     0.700000     0.000000     1.000000   \n",
       "50%      1226.000000     0.0000     1.500000     1.000000     3.000000   \n",
       "75%      1615.250000     1.0000     2.200000     1.000000     7.000000   \n",
       "max      1998.000000     1.0000     3.000000     1.000000    19.000000   \n",
       "\n",
       "            four_g   int_memory        m_dep    mobile_wt      n_cores  ...  \\\n",
       "count  2000.000000  2000.000000  2000.000000  2000.000000  2000.000000  ...   \n",
       "mean      0.521500    32.046500     0.501750   140.249000     4.520500  ...   \n",
       "std       0.499662    18.145715     0.288416    35.399655     2.287837  ...   \n",
       "min       0.000000     2.000000     0.100000    80.000000     1.000000  ...   \n",
       "25%       0.000000    16.000000     0.200000   109.000000     3.000000  ...   \n",
       "50%       1.000000    32.000000     0.500000   141.000000     4.000000  ...   \n",
       "75%       1.000000    48.000000     0.800000   170.000000     7.000000  ...   \n",
       "max       1.000000    64.000000     1.000000   200.000000     8.000000  ...   \n",
       "\n",
       "         px_height     px_width          ram         sc_h         sc_w  \\\n",
       "count  2000.000000  2000.000000  2000.000000  2000.000000  2000.000000   \n",
       "mean    645.108000  1251.515500  2124.213000    12.306500     5.767000   \n",
       "std     443.780811   432.199447  1084.732044     4.213245     4.356398   \n",
       "min       0.000000   500.000000   256.000000     5.000000     0.000000   \n",
       "25%     282.750000   874.750000  1207.500000     9.000000     2.000000   \n",
       "50%     564.000000  1247.000000  2146.500000    12.000000     5.000000   \n",
       "75%     947.250000  1633.000000  3064.500000    16.000000     9.000000   \n",
       "max    1960.000000  1998.000000  3998.000000    19.000000    18.000000   \n",
       "\n",
       "         talk_time      three_g  touch_screen         wifi  price_range  \n",
       "count  2000.000000  2000.000000   2000.000000  2000.000000  2000.000000  \n",
       "mean     11.011000     0.761500      0.503000     0.507000     1.500000  \n",
       "std       5.463955     0.426273      0.500116     0.500076     1.118314  \n",
       "min       2.000000     0.000000      0.000000     0.000000     0.000000  \n",
       "25%       6.000000     1.000000      0.000000     0.000000     0.750000  \n",
       "50%      11.000000     1.000000      1.000000     1.000000     1.500000  \n",
       "75%      16.000000     1.000000      1.000000     1.000000     2.250000  \n",
       "max      20.000000     1.000000      1.000000     1.000000     3.000000  \n",
       "\n",
       "[8 rows x 21 columns]"
      ]
     },
     "execution_count": 5,
     "metadata": {},
     "output_type": "execute_result"
    }
   ],
   "source": [
    "data.describe()"
   ]
  },
  {
   "cell_type": "markdown",
   "id": "07326518",
   "metadata": {
    "papermill": {
     "duration": 0.010947,
     "end_time": "2022-09-04T22:32:25.983728",
     "exception": false,
     "start_time": "2022-09-04T22:32:25.972781",
     "status": "completed"
    },
    "tags": []
   },
   "source": [
    "# Data Preprocessing"
   ]
  },
  {
   "cell_type": "code",
   "execution_count": 6,
   "id": "73de6ab7",
   "metadata": {
    "execution": {
     "iopub.execute_input": "2022-09-04T22:32:26.006495Z",
     "iopub.status.busy": "2022-09-04T22:32:26.005362Z",
     "iopub.status.idle": "2022-09-04T22:32:26.126241Z",
     "shell.execute_reply": "2022-09-04T22:32:26.125283Z"
    },
    "papermill": {
     "duration": 0.134381,
     "end_time": "2022-09-04T22:32:26.128639",
     "exception": false,
     "start_time": "2022-09-04T22:32:25.994258",
     "status": "completed"
    },
    "tags": []
   },
   "outputs": [],
   "source": [
    "from sklearn.preprocessing import StandardScaler\n",
    "stand = StandardScaler()\n",
    "for column in ['battery_power','int_memory','mobile_wt','px_height','px_width','ram']:\n",
    "    data[column] = stand.fit_transform(data[column].values.reshape(-1,1))"
   ]
  },
  {
   "cell_type": "code",
   "execution_count": 7,
   "id": "23c3061c",
   "metadata": {
    "execution": {
     "iopub.execute_input": "2022-09-04T22:32:26.151953Z",
     "iopub.status.busy": "2022-09-04T22:32:26.151006Z",
     "iopub.status.idle": "2022-09-04T22:32:26.156633Z",
     "shell.execute_reply": "2022-09-04T22:32:26.155777Z"
    },
    "papermill": {
     "duration": 0.01948,
     "end_time": "2022-09-04T22:32:26.158811",
     "exception": false,
     "start_time": "2022-09-04T22:32:26.139331",
     "status": "completed"
    },
    "tags": []
   },
   "outputs": [],
   "source": [
    "X = data.iloc[:,:-1]\n",
    "y = data.iloc[:,-1]"
   ]
  },
  {
   "cell_type": "code",
   "execution_count": 8,
   "id": "9db2e804",
   "metadata": {
    "execution": {
     "iopub.execute_input": "2022-09-04T22:32:26.181380Z",
     "iopub.status.busy": "2022-09-04T22:32:26.180516Z",
     "iopub.status.idle": "2022-09-04T22:32:26.198768Z",
     "shell.execute_reply": "2022-09-04T22:32:26.197770Z"
    },
    "papermill": {
     "duration": 0.03181,
     "end_time": "2022-09-04T22:32:26.201019",
     "exception": false,
     "start_time": "2022-09-04T22:32:26.169209",
     "status": "completed"
    },
    "tags": []
   },
   "outputs": [
    {
     "data": {
      "text/html": [
       "<div>\n",
       "<style scoped>\n",
       "    .dataframe tbody tr th:only-of-type {\n",
       "        vertical-align: middle;\n",
       "    }\n",
       "\n",
       "    .dataframe tbody tr th {\n",
       "        vertical-align: top;\n",
       "    }\n",
       "\n",
       "    .dataframe thead th {\n",
       "        text-align: right;\n",
       "    }\n",
       "</style>\n",
       "<table border=\"1\" class=\"dataframe\">\n",
       "  <thead>\n",
       "    <tr style=\"text-align: right;\">\n",
       "      <th></th>\n",
       "      <th>battery_power</th>\n",
       "      <th>blue</th>\n",
       "      <th>clock_speed</th>\n",
       "      <th>dual_sim</th>\n",
       "      <th>fc</th>\n",
       "      <th>four_g</th>\n",
       "      <th>int_memory</th>\n",
       "      <th>m_dep</th>\n",
       "      <th>mobile_wt</th>\n",
       "      <th>n_cores</th>\n",
       "      <th>pc</th>\n",
       "      <th>px_height</th>\n",
       "      <th>px_width</th>\n",
       "      <th>ram</th>\n",
       "      <th>sc_h</th>\n",
       "      <th>sc_w</th>\n",
       "      <th>talk_time</th>\n",
       "      <th>three_g</th>\n",
       "      <th>touch_screen</th>\n",
       "      <th>wifi</th>\n",
       "    </tr>\n",
       "  </thead>\n",
       "  <tbody>\n",
       "    <tr>\n",
       "      <th>0</th>\n",
       "      <td>-0.902597</td>\n",
       "      <td>0</td>\n",
       "      <td>2.2</td>\n",
       "      <td>0</td>\n",
       "      <td>1</td>\n",
       "      <td>0</td>\n",
       "      <td>-1.380644</td>\n",
       "      <td>0.6</td>\n",
       "      <td>1.349249</td>\n",
       "      <td>2</td>\n",
       "      <td>2</td>\n",
       "      <td>-1.408949</td>\n",
       "      <td>-1.146784</td>\n",
       "      <td>0.391703</td>\n",
       "      <td>9</td>\n",
       "      <td>7</td>\n",
       "      <td>19</td>\n",
       "      <td>0</td>\n",
       "      <td>0</td>\n",
       "      <td>1</td>\n",
       "    </tr>\n",
       "    <tr>\n",
       "      <th>1</th>\n",
       "      <td>-0.495139</td>\n",
       "      <td>1</td>\n",
       "      <td>0.5</td>\n",
       "      <td>1</td>\n",
       "      <td>0</td>\n",
       "      <td>1</td>\n",
       "      <td>1.155024</td>\n",
       "      <td>0.7</td>\n",
       "      <td>-0.120059</td>\n",
       "      <td>3</td>\n",
       "      <td>6</td>\n",
       "      <td>0.585778</td>\n",
       "      <td>1.704465</td>\n",
       "      <td>0.467317</td>\n",
       "      <td>17</td>\n",
       "      <td>3</td>\n",
       "      <td>7</td>\n",
       "      <td>1</td>\n",
       "      <td>1</td>\n",
       "      <td>0</td>\n",
       "    </tr>\n",
       "    <tr>\n",
       "      <th>2</th>\n",
       "      <td>-1.537686</td>\n",
       "      <td>1</td>\n",
       "      <td>0.5</td>\n",
       "      <td>1</td>\n",
       "      <td>2</td>\n",
       "      <td>1</td>\n",
       "      <td>0.493546</td>\n",
       "      <td>0.9</td>\n",
       "      <td>0.134244</td>\n",
       "      <td>5</td>\n",
       "      <td>6</td>\n",
       "      <td>1.392684</td>\n",
       "      <td>1.074968</td>\n",
       "      <td>0.441498</td>\n",
       "      <td>11</td>\n",
       "      <td>2</td>\n",
       "      <td>9</td>\n",
       "      <td>1</td>\n",
       "      <td>1</td>\n",
       "      <td>0</td>\n",
       "    </tr>\n",
       "    <tr>\n",
       "      <th>3</th>\n",
       "      <td>-1.419319</td>\n",
       "      <td>1</td>\n",
       "      <td>2.5</td>\n",
       "      <td>0</td>\n",
       "      <td>0</td>\n",
       "      <td>0</td>\n",
       "      <td>-1.215274</td>\n",
       "      <td>0.8</td>\n",
       "      <td>-0.261339</td>\n",
       "      <td>6</td>\n",
       "      <td>9</td>\n",
       "      <td>1.286750</td>\n",
       "      <td>1.236971</td>\n",
       "      <td>0.594569</td>\n",
       "      <td>16</td>\n",
       "      <td>8</td>\n",
       "      <td>11</td>\n",
       "      <td>1</td>\n",
       "      <td>0</td>\n",
       "      <td>0</td>\n",
       "    </tr>\n",
       "    <tr>\n",
       "      <th>4</th>\n",
       "      <td>1.325906</td>\n",
       "      <td>1</td>\n",
       "      <td>1.2</td>\n",
       "      <td>0</td>\n",
       "      <td>13</td>\n",
       "      <td>1</td>\n",
       "      <td>0.658915</td>\n",
       "      <td>0.6</td>\n",
       "      <td>0.021220</td>\n",
       "      <td>2</td>\n",
       "      <td>14</td>\n",
       "      <td>1.268718</td>\n",
       "      <td>-0.091452</td>\n",
       "      <td>-0.657666</td>\n",
       "      <td>8</td>\n",
       "      <td>2</td>\n",
       "      <td>15</td>\n",
       "      <td>1</td>\n",
       "      <td>1</td>\n",
       "      <td>0</td>\n",
       "    </tr>\n",
       "  </tbody>\n",
       "</table>\n",
       "</div>"
      ],
      "text/plain": [
       "   battery_power  blue  clock_speed  dual_sim  fc  four_g  int_memory  m_dep  \\\n",
       "0      -0.902597     0          2.2         0   1       0   -1.380644    0.6   \n",
       "1      -0.495139     1          0.5         1   0       1    1.155024    0.7   \n",
       "2      -1.537686     1          0.5         1   2       1    0.493546    0.9   \n",
       "3      -1.419319     1          2.5         0   0       0   -1.215274    0.8   \n",
       "4       1.325906     1          1.2         0  13       1    0.658915    0.6   \n",
       "\n",
       "   mobile_wt  n_cores  pc  px_height  px_width       ram  sc_h  sc_w  \\\n",
       "0   1.349249        2   2  -1.408949 -1.146784  0.391703     9     7   \n",
       "1  -0.120059        3   6   0.585778  1.704465  0.467317    17     3   \n",
       "2   0.134244        5   6   1.392684  1.074968  0.441498    11     2   \n",
       "3  -0.261339        6   9   1.286750  1.236971  0.594569    16     8   \n",
       "4   0.021220        2  14   1.268718 -0.091452 -0.657666     8     2   \n",
       "\n",
       "   talk_time  three_g  touch_screen  wifi  \n",
       "0         19        0             0     1  \n",
       "1          7        1             1     0  \n",
       "2          9        1             1     0  \n",
       "3         11        1             0     0  \n",
       "4         15        1             1     0  "
      ]
     },
     "execution_count": 8,
     "metadata": {},
     "output_type": "execute_result"
    }
   ],
   "source": [
    "X.head()"
   ]
  },
  {
   "cell_type": "code",
   "execution_count": 9,
   "id": "c6cb460e",
   "metadata": {
    "execution": {
     "iopub.execute_input": "2022-09-04T22:32:26.225873Z",
     "iopub.status.busy": "2022-09-04T22:32:26.224175Z",
     "iopub.status.idle": "2022-09-04T22:32:26.231695Z",
     "shell.execute_reply": "2022-09-04T22:32:26.230598Z"
    },
    "papermill": {
     "duration": 0.021307,
     "end_time": "2022-09-04T22:32:26.233814",
     "exception": false,
     "start_time": "2022-09-04T22:32:26.212507",
     "status": "completed"
    },
    "tags": []
   },
   "outputs": [
    {
     "data": {
      "text/plain": [
       "0    1\n",
       "1    2\n",
       "2    2\n",
       "3    2\n",
       "4    1\n",
       "Name: price_range, dtype: int64"
      ]
     },
     "execution_count": 9,
     "metadata": {},
     "output_type": "execute_result"
    }
   ],
   "source": [
    "y.head()"
   ]
  },
  {
   "cell_type": "markdown",
   "id": "98b8a5b3",
   "metadata": {
    "papermill": {
     "duration": 0.010489,
     "end_time": "2022-09-04T22:32:26.254862",
     "exception": false,
     "start_time": "2022-09-04T22:32:26.244373",
     "status": "completed"
    },
    "tags": []
   },
   "source": [
    "#### Split Data"
   ]
  },
  {
   "cell_type": "code",
   "execution_count": 10,
   "id": "d537e4d9",
   "metadata": {
    "execution": {
     "iopub.execute_input": "2022-09-04T22:32:26.278936Z",
     "iopub.status.busy": "2022-09-04T22:32:26.278137Z",
     "iopub.status.idle": "2022-09-04T22:32:26.330552Z",
     "shell.execute_reply": "2022-09-04T22:32:26.329509Z"
    },
    "papermill": {
     "duration": 0.067033,
     "end_time": "2022-09-04T22:32:26.333268",
     "exception": false,
     "start_time": "2022-09-04T22:32:26.266235",
     "status": "completed"
    },
    "tags": []
   },
   "outputs": [],
   "source": [
    "from sklearn.model_selection import train_test_split\n",
    "X_train , X_test , y_train ,y_test = train_test_split(X,y,train_size = 0.75 , random_state = 0)"
   ]
  },
  {
   "cell_type": "markdown",
   "id": "f94d1168",
   "metadata": {
    "papermill": {
     "duration": 0.010501,
     "end_time": "2022-09-04T22:32:26.355036",
     "exception": false,
     "start_time": "2022-09-04T22:32:26.344535",
     "status": "completed"
    },
    "tags": []
   },
   "source": [
    "# Logistic Regression"
   ]
  },
  {
   "cell_type": "code",
   "execution_count": 11,
   "id": "649cd749",
   "metadata": {
    "execution": {
     "iopub.execute_input": "2022-09-04T22:32:26.379214Z",
     "iopub.status.busy": "2022-09-04T22:32:26.378234Z",
     "iopub.status.idle": "2022-09-04T22:32:27.635615Z",
     "shell.execute_reply": "2022-09-04T22:32:27.634619Z"
    },
    "papermill": {
     "duration": 1.2722,
     "end_time": "2022-09-04T22:32:27.638095",
     "exception": false,
     "start_time": "2022-09-04T22:32:26.365895",
     "status": "completed"
    },
    "tags": []
   },
   "outputs": [
    {
     "data": {
      "text/plain": [
       "{'fit_time': array([0.1599915 , 0.13235664, 0.12299371, 0.12371159, 0.13562727,\n",
       "        0.11892319, 0.08384347, 0.08624506, 0.08816433, 0.09914637]),\n",
       " 'score_time': array([0.00400686, 0.00249529, 0.0026679 , 0.00238371, 0.00230289,\n",
       "        0.0019474 , 0.00168276, 0.00165415, 0.00176024, 0.00152969]),\n",
       " 'test_score': array([0.95 , 0.955, 0.925, 0.945, 0.925, 0.95 , 0.95 , 0.935, 0.935,\n",
       "        0.965])}"
      ]
     },
     "execution_count": 11,
     "metadata": {},
     "output_type": "execute_result"
    }
   ],
   "source": [
    "from sklearn.model_selection import cross_validate ,cross_val_score\n",
    "from sklearn.linear_model import LogisticRegression\n",
    "lg = LogisticRegression(random_state = 42)\n",
    "cross_validate(lg , X , y ,cv= 10)"
   ]
  },
  {
   "cell_type": "code",
   "execution_count": 12,
   "id": "9c6f305b",
   "metadata": {
    "execution": {
     "iopub.execute_input": "2022-09-04T22:32:27.662018Z",
     "iopub.status.busy": "2022-09-04T22:32:27.661720Z",
     "iopub.status.idle": "2022-09-04T22:32:28.559542Z",
     "shell.execute_reply": "2022-09-04T22:32:28.558429Z"
    },
    "papermill": {
     "duration": 0.912659,
     "end_time": "2022-09-04T22:32:28.562147",
     "exception": false,
     "start_time": "2022-09-04T22:32:27.649488",
     "status": "completed"
    },
    "tags": []
   },
   "outputs": [
    {
     "data": {
      "text/plain": [
       "0.9435"
      ]
     },
     "execution_count": 12,
     "metadata": {},
     "output_type": "execute_result"
    }
   ],
   "source": [
    "cross_val_score(lg , X , y ,cv= 10).mean()"
   ]
  },
  {
   "cell_type": "code",
   "execution_count": 13,
   "id": "8fe24841",
   "metadata": {
    "execution": {
     "iopub.execute_input": "2022-09-04T22:32:28.586594Z",
     "iopub.status.busy": "2022-09-04T22:32:28.585579Z",
     "iopub.status.idle": "2022-09-04T22:32:33.800201Z",
     "shell.execute_reply": "2022-09-04T22:32:33.799294Z"
    },
    "papermill": {
     "duration": 5.228671,
     "end_time": "2022-09-04T22:32:33.802582",
     "exception": false,
     "start_time": "2022-09-04T22:32:28.573911",
     "status": "completed"
    },
    "tags": []
   },
   "outputs": [
    {
     "name": "stdout",
     "output_type": "stream",
     "text": [
      "tuned hpyerparameters :(best parameters)  {'C': 100.0, 'penalty': 'l2'}\n",
      "accuracy : 0.9399999999999998\n"
     ]
    }
   ],
   "source": [
    "from sklearn.model_selection import GridSearchCV\n",
    "grid={\"C\":np.logspace(-3,3,7), \"penalty\":[\"l1\",\"l2\"]}\n",
    "logreg_cv=GridSearchCV(lg,grid,cv=10)\n",
    "logreg_cv.fit(X_train,y_train)\n",
    "print(\"tuned hpyerparameters :(best parameters) \",logreg_cv.best_params_)\n",
    "print(\"accuracy :\",logreg_cv.best_score_)"
   ]
  },
  {
   "cell_type": "markdown",
   "id": "c9994342",
   "metadata": {
    "papermill": {
     "duration": 0.011432,
     "end_time": "2022-09-04T22:32:33.825655",
     "exception": false,
     "start_time": "2022-09-04T22:32:33.814223",
     "status": "completed"
    },
    "tags": []
   },
   "source": [
    "# KNN"
   ]
  },
  {
   "cell_type": "markdown",
   "id": "0c1bd5be",
   "metadata": {
    "papermill": {
     "duration": 0.010686,
     "end_time": "2022-09-04T22:32:33.847172",
     "exception": false,
     "start_time": "2022-09-04T22:32:33.836486",
     "status": "completed"
    },
    "tags": []
   },
   "source": [
    "#### Cross Validation"
   ]
  },
  {
   "cell_type": "code",
   "execution_count": 14,
   "id": "e6fd7a60",
   "metadata": {
    "execution": {
     "iopub.execute_input": "2022-09-04T22:32:33.870851Z",
     "iopub.status.busy": "2022-09-04T22:32:33.870472Z",
     "iopub.status.idle": "2022-09-04T22:32:34.254373Z",
     "shell.execute_reply": "2022-09-04T22:32:34.253003Z"
    },
    "papermill": {
     "duration": 0.399885,
     "end_time": "2022-09-04T22:32:34.258080",
     "exception": false,
     "start_time": "2022-09-04T22:32:33.858195",
     "status": "completed"
    },
    "scrolled": true,
    "tags": []
   },
   "outputs": [
    {
     "data": {
      "text/plain": [
       "{'fit_time': array([0.00258493, 0.00499678, 0.00443721, 0.00456429, 0.00419664,\n",
       "        0.00464463, 0.00425196, 0.00442219, 0.00481224, 0.00419903]),\n",
       " 'score_time': array([0.03151345, 0.02749419, 0.02771401, 0.02796817, 0.02851987,\n",
       "        0.02790403, 0.02843571, 0.02695203, 0.02761436, 0.02692676]),\n",
       " 'test_score': array([0.38 , 0.33 , 0.35 , 0.36 , 0.335, 0.38 , 0.38 , 0.31 , 0.38 ,\n",
       "        0.305])}"
      ]
     },
     "execution_count": 14,
     "metadata": {},
     "output_type": "execute_result"
    }
   ],
   "source": [
    "from sklearn.model_selection import cross_validate ,cross_val_score\n",
    "from sklearn.neighbors import KNeighborsClassifier\n",
    "kn = KNeighborsClassifier()\n",
    "cross_validate(kn , X , y ,cv= 10)"
   ]
  },
  {
   "cell_type": "code",
   "execution_count": 15,
   "id": "6ce8ea98",
   "metadata": {
    "execution": {
     "iopub.execute_input": "2022-09-04T22:32:34.318692Z",
     "iopub.status.busy": "2022-09-04T22:32:34.318149Z",
     "iopub.status.idle": "2022-09-04T22:32:34.690210Z",
     "shell.execute_reply": "2022-09-04T22:32:34.688893Z"
    },
    "papermill": {
     "duration": 0.405887,
     "end_time": "2022-09-04T22:32:34.693821",
     "exception": false,
     "start_time": "2022-09-04T22:32:34.287934",
     "status": "completed"
    },
    "tags": []
   },
   "outputs": [
    {
     "data": {
      "text/plain": [
       "0.35100000000000003"
      ]
     },
     "execution_count": 15,
     "metadata": {},
     "output_type": "execute_result"
    }
   ],
   "source": [
    "cross_val_score(kn , X , y ,cv= 10).mean()"
   ]
  },
  {
   "cell_type": "markdown",
   "id": "788cac63",
   "metadata": {
    "papermill": {
     "duration": 0.029043,
     "end_time": "2022-09-04T22:32:34.753197",
     "exception": false,
     "start_time": "2022-09-04T22:32:34.724154",
     "status": "completed"
    },
    "tags": []
   },
   "source": [
    "#### Grid Search"
   ]
  },
  {
   "cell_type": "code",
   "execution_count": 16,
   "id": "c4816ae1",
   "metadata": {
    "execution": {
     "iopub.execute_input": "2022-09-04T22:32:34.800249Z",
     "iopub.status.busy": "2022-09-04T22:32:34.799944Z",
     "iopub.status.idle": "2022-09-04T22:32:54.943757Z",
     "shell.execute_reply": "2022-09-04T22:32:54.941251Z"
    },
    "papermill": {
     "duration": 20.166403,
     "end_time": "2022-09-04T22:32:54.947956",
     "exception": false,
     "start_time": "2022-09-04T22:32:34.781553",
     "status": "completed"
    },
    "tags": []
   },
   "outputs": [
    {
     "name": "stdout",
     "output_type": "stream",
     "text": [
      "0.35266666666666663\n",
      "{'n_neighbors': 40, 'weights': 'distance'}\n"
     ]
    }
   ],
   "source": [
    "k_range = list(range(1,50))\n",
    "weight_options = [\"uniform\", \"distance\"]\n",
    "param_grid = dict(n_neighbors = k_range, weights = weight_options)\n",
    "#print (param_grid)\n",
    "\n",
    "grid = GridSearchCV(kn, param_grid, cv = 10, scoring = 'accuracy')\n",
    "grid.fit(X_train,y_train)\n",
    "print (grid.best_score_)\n",
    "print (grid.best_params_)"
   ]
  },
  {
   "cell_type": "markdown",
   "id": "e00453ac",
   "metadata": {
    "papermill": {
     "duration": 0.028982,
     "end_time": "2022-09-04T22:32:55.008586",
     "exception": false,
     "start_time": "2022-09-04T22:32:54.979604",
     "status": "completed"
    },
    "tags": []
   },
   "source": [
    "# SVM"
   ]
  },
  {
   "cell_type": "markdown",
   "id": "8463f0d4",
   "metadata": {
    "papermill": {
     "duration": 0.016674,
     "end_time": "2022-09-04T22:32:55.055537",
     "exception": false,
     "start_time": "2022-09-04T22:32:55.038863",
     "status": "completed"
    },
    "tags": []
   },
   "source": [
    "#### Cross Validation"
   ]
  },
  {
   "cell_type": "code",
   "execution_count": 17,
   "id": "62853c5a",
   "metadata": {
    "execution": {
     "iopub.execute_input": "2022-09-04T22:32:55.078828Z",
     "iopub.status.busy": "2022-09-04T22:32:55.078529Z",
     "iopub.status.idle": "2022-09-04T22:32:57.099233Z",
     "shell.execute_reply": "2022-09-04T22:32:57.098183Z"
    },
    "papermill": {
     "duration": 2.035024,
     "end_time": "2022-09-04T22:32:57.101553",
     "exception": false,
     "start_time": "2022-09-04T22:32:55.066529",
     "status": "completed"
    },
    "tags": []
   },
   "outputs": [
    {
     "data": {
      "text/plain": [
       "{'fit_time': array([0.18431091, 0.17696071, 0.1832571 , 0.18483686, 0.17628264,\n",
       "        0.17802382, 0.17841291, 0.17919827, 0.18058205, 0.17357063]),\n",
       " 'score_time': array([0.02104545, 0.02077699, 0.02073359, 0.02091551, 0.02111959,\n",
       "        0.02162576, 0.02096963, 0.02113533, 0.02081037, 0.02183247]),\n",
       " 'test_score': array([0.765, 0.725, 0.715, 0.745, 0.78 , 0.77 , 0.73 , 0.735, 0.75 ,\n",
       "        0.745])}"
      ]
     },
     "execution_count": 17,
     "metadata": {},
     "output_type": "execute_result"
    }
   ],
   "source": [
    "from sklearn.svm import SVC\n",
    "sv = SVC()\n",
    "cross_validate(sv , X , y ,cv= 10)"
   ]
  },
  {
   "cell_type": "code",
   "execution_count": 18,
   "id": "4378d287",
   "metadata": {
    "execution": {
     "iopub.execute_input": "2022-09-04T22:32:57.127739Z",
     "iopub.status.busy": "2022-09-04T22:32:57.126127Z",
     "iopub.status.idle": "2022-09-04T22:32:59.167434Z",
     "shell.execute_reply": "2022-09-04T22:32:59.166460Z"
    },
    "papermill": {
     "duration": 2.055841,
     "end_time": "2022-09-04T22:32:59.169777",
     "exception": false,
     "start_time": "2022-09-04T22:32:57.113936",
     "status": "completed"
    },
    "scrolled": true,
    "tags": []
   },
   "outputs": [
    {
     "data": {
      "text/plain": [
       "0.746"
      ]
     },
     "execution_count": 18,
     "metadata": {},
     "output_type": "execute_result"
    }
   ],
   "source": [
    "cross_val_score(sv , X , y ,cv= 10).mean()"
   ]
  },
  {
   "cell_type": "markdown",
   "id": "69468587",
   "metadata": {
    "papermill": {
     "duration": 0.011281,
     "end_time": "2022-09-04T22:32:59.192925",
     "exception": false,
     "start_time": "2022-09-04T22:32:59.181644",
     "status": "completed"
    },
    "tags": []
   },
   "source": [
    "#### Grid Search"
   ]
  },
  {
   "cell_type": "code",
   "execution_count": 19,
   "id": "bef6d8ed",
   "metadata": {
    "execution": {
     "iopub.execute_input": "2022-09-04T22:32:59.217550Z",
     "iopub.status.busy": "2022-09-04T22:32:59.216070Z",
     "iopub.status.idle": "2022-09-04T22:34:09.663964Z",
     "shell.execute_reply": "2022-09-04T22:34:09.662939Z"
    },
    "papermill": {
     "duration": 70.473573,
     "end_time": "2022-09-04T22:34:09.677579",
     "exception": false,
     "start_time": "2022-09-04T22:32:59.204006",
     "status": "completed"
    },
    "tags": []
   },
   "outputs": [
    {
     "name": "stdout",
     "output_type": "stream",
     "text": [
      "0.9726666666666667\n",
      "{'C': 100, 'kernel': 'linear'}\n"
     ]
    }
   ],
   "source": [
    "params = [\n",
    "        {'C':[1, 10, 100], 'kernel':['linear', 'sigmoid', 'poly']},\n",
    "        {'C':[1, 10, 100], 'kernel':['rbf'], 'gamma':[0.5, 0.6, 0.7, 0.1, 0.01, 0.01]}\n",
    "         ]\n",
    "\n",
    "grid_search = GridSearchCV(estimator=sv,\n",
    "                           param_grid=params,\n",
    "                           scoring='accuracy',\n",
    "                           cv=10)\n",
    "grid_search.fit(X_train,y_train)\n",
    "print (grid_search.best_score_)\n",
    "print (grid_search.best_params_)"
   ]
  },
  {
   "cell_type": "markdown",
   "id": "3b7c606a",
   "metadata": {
    "papermill": {
     "duration": 0.011347,
     "end_time": "2022-09-04T22:34:09.700330",
     "exception": false,
     "start_time": "2022-09-04T22:34:09.688983",
     "status": "completed"
    },
    "tags": []
   },
   "source": [
    "# Decision Tree"
   ]
  },
  {
   "cell_type": "markdown",
   "id": "feb57900",
   "metadata": {
    "papermill": {
     "duration": 0.01148,
     "end_time": "2022-09-04T22:34:09.723487",
     "exception": false,
     "start_time": "2022-09-04T22:34:09.712007",
     "status": "completed"
    },
    "tags": []
   },
   "source": [
    "#### Cross Validation"
   ]
  },
  {
   "cell_type": "code",
   "execution_count": 20,
   "id": "26185464",
   "metadata": {
    "execution": {
     "iopub.execute_input": "2022-09-04T22:34:09.747409Z",
     "iopub.status.busy": "2022-09-04T22:34:09.747070Z",
     "iopub.status.idle": "2022-09-04T22:34:10.329429Z",
     "shell.execute_reply": "2022-09-04T22:34:10.328322Z"
    },
    "papermill": {
     "duration": 0.597214,
     "end_time": "2022-09-04T22:34:10.331912",
     "exception": false,
     "start_time": "2022-09-04T22:34:09.734698",
     "status": "completed"
    },
    "tags": []
   },
   "outputs": [
    {
     "data": {
      "text/plain": [
       "{'fit_time': array([0.04907846, 0.0498085 , 0.04752874, 0.04746342, 0.04591894,\n",
       "        0.04745722, 0.04664183, 0.04702234, 0.04624367, 0.04645252]),\n",
       " 'score_time': array([0.00401425, 0.00364423, 0.003263  , 0.00314021, 0.00317216,\n",
       "        0.00312567, 0.00407219, 0.00366139, 0.00362349, 0.00350904]),\n",
       " 'test_score': array([0.81 , 0.815, 0.84 , 0.825, 0.86 , 0.8  , 0.825, 0.81 , 0.815,\n",
       "        0.8  ])}"
      ]
     },
     "execution_count": 20,
     "metadata": {},
     "output_type": "execute_result"
    }
   ],
   "source": [
    "from sklearn.ensemble import RandomForestClassifier\n",
    "dt = RandomForestClassifier(criterion='entropy' , n_estimators = 10 ,random_state = 0)\n",
    "cross_validate(dt , X , y ,cv= 10)"
   ]
  },
  {
   "cell_type": "code",
   "execution_count": 21,
   "id": "79e4eb34",
   "metadata": {
    "execution": {
     "iopub.execute_input": "2022-09-04T22:34:10.357558Z",
     "iopub.status.busy": "2022-09-04T22:34:10.357201Z",
     "iopub.status.idle": "2022-09-04T22:34:10.881703Z",
     "shell.execute_reply": "2022-09-04T22:34:10.880410Z"
    },
    "papermill": {
     "duration": 0.540037,
     "end_time": "2022-09-04T22:34:10.884542",
     "exception": false,
     "start_time": "2022-09-04T22:34:10.344505",
     "status": "completed"
    },
    "tags": []
   },
   "outputs": [
    {
     "data": {
      "text/plain": [
       "0.8200000000000001"
      ]
     },
     "execution_count": 21,
     "metadata": {},
     "output_type": "execute_result"
    }
   ],
   "source": [
    "cross_val_score(dt, X , y ,cv= 10).mean()"
   ]
  },
  {
   "cell_type": "markdown",
   "id": "beafded9",
   "metadata": {
    "papermill": {
     "duration": 0.011356,
     "end_time": "2022-09-04T22:34:10.907917",
     "exception": false,
     "start_time": "2022-09-04T22:34:10.896561",
     "status": "completed"
    },
    "tags": []
   },
   "source": [
    "#### Grid Search"
   ]
  },
  {
   "cell_type": "code",
   "execution_count": 22,
   "id": "dbf8f83d",
   "metadata": {
    "execution": {
     "iopub.execute_input": "2022-09-04T22:34:10.933477Z",
     "iopub.status.busy": "2022-09-04T22:34:10.931795Z",
     "iopub.status.idle": "2022-09-04T22:34:29.432818Z",
     "shell.execute_reply": "2022-09-04T22:34:29.431185Z"
    },
    "papermill": {
     "duration": 18.515772,
     "end_time": "2022-09-04T22:34:29.435106",
     "exception": false,
     "start_time": "2022-09-04T22:34:10.919334",
     "status": "completed"
    },
    "tags": []
   },
   "outputs": [
    {
     "name": "stdout",
     "output_type": "stream",
     "text": [
      "0.8133333333333332\n",
      "{'criterion': 'entropy', 'max_depth': 14}\n"
     ]
    }
   ],
   "source": [
    "tree_para = {'criterion':['gini','entropy'],'max_depth':list(range(1,50))}\n",
    "clf = GridSearchCV(dt, tree_para, cv=5)\n",
    "clf.fit(X_train,y_train)\n",
    "print (clf.best_score_)\n",
    "print (clf.best_params_)"
   ]
  },
  {
   "cell_type": "markdown",
   "id": "1eec2ecb",
   "metadata": {
    "papermill": {
     "duration": 0.011553,
     "end_time": "2022-09-04T22:34:29.458781",
     "exception": false,
     "start_time": "2022-09-04T22:34:29.447228",
     "status": "completed"
    },
    "tags": []
   },
   "source": [
    "# Random Forest"
   ]
  },
  {
   "cell_type": "markdown",
   "id": "4c1cc281",
   "metadata": {
    "papermill": {
     "duration": 0.011291,
     "end_time": "2022-09-04T22:34:29.481906",
     "exception": false,
     "start_time": "2022-09-04T22:34:29.470615",
     "status": "completed"
    },
    "tags": []
   },
   "source": [
    "#### Cross Validation"
   ]
  },
  {
   "cell_type": "code",
   "execution_count": 23,
   "id": "b5fe1258",
   "metadata": {
    "execution": {
     "iopub.execute_input": "2022-09-04T22:34:29.506976Z",
     "iopub.status.busy": "2022-09-04T22:34:29.506146Z",
     "iopub.status.idle": "2022-09-04T22:34:30.023641Z",
     "shell.execute_reply": "2022-09-04T22:34:30.022296Z"
    },
    "papermill": {
     "duration": 0.532491,
     "end_time": "2022-09-04T22:34:30.026282",
     "exception": false,
     "start_time": "2022-09-04T22:34:29.493791",
     "status": "completed"
    },
    "tags": []
   },
   "outputs": [
    {
     "data": {
      "text/plain": [
       "{'fit_time': array([0.04644918, 0.04648852, 0.04620051, 0.0466218 , 0.04589581,\n",
       "        0.04615736, 0.0481863 , 0.04805827, 0.04950809, 0.04775763]),\n",
       " 'score_time': array([0.00310969, 0.00294614, 0.00294328, 0.00309396, 0.00328946,\n",
       "        0.00308371, 0.00318074, 0.00348997, 0.0035665 , 0.00360417]),\n",
       " 'test_score': array([0.81 , 0.815, 0.84 , 0.825, 0.86 , 0.8  , 0.825, 0.81 , 0.815,\n",
       "        0.8  ])}"
      ]
     },
     "execution_count": 23,
     "metadata": {},
     "output_type": "execute_result"
    }
   ],
   "source": [
    "from sklearn.ensemble import RandomForestClassifier\n",
    "rf = RandomForestClassifier(criterion='entropy' , n_estimators = 10 ,random_state = 0)\n",
    "cross_validate(rf , X , y ,cv= 10)"
   ]
  },
  {
   "cell_type": "code",
   "execution_count": 24,
   "id": "6f97e266",
   "metadata": {
    "execution": {
     "iopub.execute_input": "2022-09-04T22:34:30.051970Z",
     "iopub.status.busy": "2022-09-04T22:34:30.051685Z",
     "iopub.status.idle": "2022-09-04T22:34:30.570821Z",
     "shell.execute_reply": "2022-09-04T22:34:30.569622Z"
    },
    "papermill": {
     "duration": 0.534607,
     "end_time": "2022-09-04T22:34:30.573711",
     "exception": false,
     "start_time": "2022-09-04T22:34:30.039104",
     "status": "completed"
    },
    "tags": []
   },
   "outputs": [
    {
     "data": {
      "text/plain": [
       "0.8200000000000001"
      ]
     },
     "execution_count": 24,
     "metadata": {},
     "output_type": "execute_result"
    }
   ],
   "source": [
    "cross_val_score(rf , X , y ,cv= 10).mean()"
   ]
  },
  {
   "cell_type": "markdown",
   "id": "5aa13501",
   "metadata": {
    "papermill": {
     "duration": 0.011579,
     "end_time": "2022-09-04T22:34:30.597493",
     "exception": false,
     "start_time": "2022-09-04T22:34:30.585914",
     "status": "completed"
    },
    "tags": []
   },
   "source": [
    "##### Grid Search"
   ]
  },
  {
   "cell_type": "code",
   "execution_count": 25,
   "id": "5718401f",
   "metadata": {
    "execution": {
     "iopub.execute_input": "2022-09-04T22:34:30.622549Z",
     "iopub.status.busy": "2022-09-04T22:34:30.622208Z",
     "iopub.status.idle": "2022-09-04T22:36:49.736577Z",
     "shell.execute_reply": "2022-09-04T22:36:49.735459Z"
    },
    "papermill": {
     "duration": 139.140597,
     "end_time": "2022-09-04T22:36:49.749860",
     "exception": false,
     "start_time": "2022-09-04T22:34:30.609263",
     "status": "completed"
    },
    "tags": []
   },
   "outputs": [
    {
     "name": "stdout",
     "output_type": "stream",
     "text": [
      "0.8833333333333334\n",
      "{'criterion': 'entropy', 'n_estimators': 190}\n"
     ]
    }
   ],
   "source": [
    "params = [\n",
    "        {'criterion':['gini', 'entropy'], 'n_estimators':[10,20,30,40,50,60,70,80,90,100,110,120,130,140,150,160,170,180,190]}\n",
    "         ]\n",
    "rfc = GridSearchCV(estimator=rf, param_grid=params,scoring='accuracy', cv= 10)\n",
    "rfc.fit(X_train,y_train)\n",
    "print (rfc.best_score_)\n",
    "print (rfc.best_params_)"
   ]
  },
  {
   "cell_type": "markdown",
   "id": "ab8ef0d1",
   "metadata": {
    "papermill": {
     "duration": 0.016739,
     "end_time": "2022-09-04T22:36:49.784836",
     "exception": false,
     "start_time": "2022-09-04T22:36:49.768097",
     "status": "completed"
    },
    "tags": []
   },
   "source": [
    "# GaussianNB"
   ]
  },
  {
   "cell_type": "markdown",
   "id": "836577c5",
   "metadata": {
    "papermill": {
     "duration": 0.017022,
     "end_time": "2022-09-04T22:36:49.819186",
     "exception": false,
     "start_time": "2022-09-04T22:36:49.802164",
     "status": "completed"
    },
    "tags": []
   },
   "source": [
    "#### Cross Validation"
   ]
  },
  {
   "cell_type": "code",
   "execution_count": 26,
   "id": "e52aa7c3",
   "metadata": {
    "execution": {
     "iopub.execute_input": "2022-09-04T22:36:49.855629Z",
     "iopub.status.busy": "2022-09-04T22:36:49.855197Z",
     "iopub.status.idle": "2022-09-04T22:36:49.941988Z",
     "shell.execute_reply": "2022-09-04T22:36:49.941131Z"
    },
    "papermill": {
     "duration": 0.108223,
     "end_time": "2022-09-04T22:36:49.944515",
     "exception": false,
     "start_time": "2022-09-04T22:36:49.836292",
     "status": "completed"
    },
    "tags": []
   },
   "outputs": [
    {
     "data": {
      "text/plain": [
       "{'fit_time': array([0.00659156, 0.00446844, 0.00447893, 0.00402546, 0.00406694,\n",
       "        0.00370002, 0.00445366, 0.00441885, 0.00419426, 0.00410461]),\n",
       " 'score_time': array([0.00251603, 0.0025475 , 0.00255656, 0.00231266, 0.00223684,\n",
       "        0.00238824, 0.00236893, 0.00244284, 0.00268149, 0.00238466]),\n",
       " 'test_score': array([0.805, 0.81 , 0.83 , 0.82 , 0.825, 0.835, 0.795, 0.815, 0.795,\n",
       "        0.79 ])}"
      ]
     },
     "execution_count": 26,
     "metadata": {},
     "output_type": "execute_result"
    }
   ],
   "source": [
    "from sklearn.naive_bayes import GaussianNB\n",
    "nb = GaussianNB()\n",
    "cross_validate(nb , X , y ,cv= 10)"
   ]
  },
  {
   "cell_type": "code",
   "execution_count": 27,
   "id": "6615a5bd",
   "metadata": {
    "execution": {
     "iopub.execute_input": "2022-09-04T22:36:49.979029Z",
     "iopub.status.busy": "2022-09-04T22:36:49.978636Z",
     "iopub.status.idle": "2022-09-04T22:36:50.076893Z",
     "shell.execute_reply": "2022-09-04T22:36:50.075669Z"
    },
    "papermill": {
     "duration": 0.117522,
     "end_time": "2022-09-04T22:36:50.080180",
     "exception": false,
     "start_time": "2022-09-04T22:36:49.962658",
     "status": "completed"
    },
    "tags": []
   },
   "outputs": [
    {
     "data": {
      "text/plain": [
       "0.812"
      ]
     },
     "execution_count": 27,
     "metadata": {},
     "output_type": "execute_result"
    }
   ],
   "source": [
    "cross_val_score(nb , X , y ,cv= 10).mean()"
   ]
  },
  {
   "cell_type": "markdown",
   "id": "416d7f27",
   "metadata": {
    "papermill": {
     "duration": 0.017973,
     "end_time": "2022-09-04T22:36:50.118523",
     "exception": false,
     "start_time": "2022-09-04T22:36:50.100550",
     "status": "completed"
    },
    "tags": []
   },
   "source": [
    "# The Best Algorithem is SVM"
   ]
  },
  {
   "cell_type": "code",
   "execution_count": 28,
   "id": "2a1be2cd",
   "metadata": {
    "execution": {
     "iopub.execute_input": "2022-09-04T22:36:50.156012Z",
     "iopub.status.busy": "2022-09-04T22:36:50.155620Z",
     "iopub.status.idle": "2022-09-04T22:36:50.167330Z",
     "shell.execute_reply": "2022-09-04T22:36:50.166359Z"
    },
    "papermill": {
     "duration": 0.03353,
     "end_time": "2022-09-04T22:36:50.170109",
     "exception": false,
     "start_time": "2022-09-04T22:36:50.136579",
     "status": "completed"
    },
    "tags": []
   },
   "outputs": [],
   "source": [
    "y_pred = grid_search.predict(X_test)"
   ]
  },
  {
   "cell_type": "code",
   "execution_count": 29,
   "id": "ffcd1af5",
   "metadata": {
    "execution": {
     "iopub.execute_input": "2022-09-04T22:36:50.210584Z",
     "iopub.status.busy": "2022-09-04T22:36:50.210223Z",
     "iopub.status.idle": "2022-09-04T22:36:50.221272Z",
     "shell.execute_reply": "2022-09-04T22:36:50.220425Z"
    },
    "papermill": {
     "duration": 0.034187,
     "end_time": "2022-09-04T22:36:50.224005",
     "exception": false,
     "start_time": "2022-09-04T22:36:50.189818",
     "status": "completed"
    },
    "tags": []
   },
   "outputs": [
    {
     "data": {
      "text/plain": [
       "array([[121,   3,   0,   0],\n",
       "       [  2, 106,   2,   0],\n",
       "       [  0,   4, 117,   4],\n",
       "       [  0,   0,   4, 137]])"
      ]
     },
     "execution_count": 29,
     "metadata": {},
     "output_type": "execute_result"
    }
   ],
   "source": [
    "from sklearn.metrics import confusion_matrix\n",
    "cm = confusion_matrix(y_test , y_pred)\n",
    "cm"
   ]
  },
  {
   "cell_type": "code",
   "execution_count": 30,
   "id": "20e7763f",
   "metadata": {
    "execution": {
     "iopub.execute_input": "2022-09-04T22:36:50.264689Z",
     "iopub.status.busy": "2022-09-04T22:36:50.264371Z",
     "iopub.status.idle": "2022-09-04T22:36:50.279502Z",
     "shell.execute_reply": "2022-09-04T22:36:50.278225Z"
    },
    "papermill": {
     "duration": 0.038089,
     "end_time": "2022-09-04T22:36:50.282053",
     "exception": false,
     "start_time": "2022-09-04T22:36:50.243964",
     "status": "completed"
    },
    "tags": []
   },
   "outputs": [
    {
     "name": "stdout",
     "output_type": "stream",
     "text": [
      "              precision    recall  f1-score   support\n",
      "\n",
      "           0       0.98      0.98      0.98       124\n",
      "           1       0.94      0.96      0.95       110\n",
      "           2       0.95      0.94      0.94       125\n",
      "           3       0.97      0.97      0.97       141\n",
      "\n",
      "    accuracy                           0.96       500\n",
      "   macro avg       0.96      0.96      0.96       500\n",
      "weighted avg       0.96      0.96      0.96       500\n",
      "\n"
     ]
    }
   ],
   "source": [
    "from sklearn.metrics import classification_report\n",
    "\n",
    "print(classification_report(y_test, y_pred))"
   ]
  },
  {
   "cell_type": "markdown",
   "id": "b50a009a",
   "metadata": {
    "papermill": {
     "duration": 0.019543,
     "end_time": "2022-09-04T22:36:50.322726",
     "exception": false,
     "start_time": "2022-09-04T22:36:50.303183",
     "status": "completed"
    },
    "tags": []
   },
   "source": [
    "# Price prediction of Test.csv Using Grid Search with svm"
   ]
  },
  {
   "cell_type": "code",
   "execution_count": 31,
   "id": "18e4551f",
   "metadata": {
    "execution": {
     "iopub.execute_input": "2022-09-04T22:36:50.363748Z",
     "iopub.status.busy": "2022-09-04T22:36:50.363379Z",
     "iopub.status.idle": "2022-09-04T22:36:50.382743Z",
     "shell.execute_reply": "2022-09-04T22:36:50.381952Z"
    },
    "papermill": {
     "duration": 0.042294,
     "end_time": "2022-09-04T22:36:50.385386",
     "exception": false,
     "start_time": "2022-09-04T22:36:50.343092",
     "status": "completed"
    },
    "tags": []
   },
   "outputs": [],
   "source": [
    "df = pd.read_csv('../input/mobile-price-classification/test.csv')"
   ]
  },
  {
   "cell_type": "code",
   "execution_count": 32,
   "id": "6a60c625",
   "metadata": {
    "execution": {
     "iopub.execute_input": "2022-09-04T22:36:50.426109Z",
     "iopub.status.busy": "2022-09-04T22:36:50.425718Z",
     "iopub.status.idle": "2022-09-04T22:36:50.453415Z",
     "shell.execute_reply": "2022-09-04T22:36:50.452609Z"
    },
    "papermill": {
     "duration": 0.050474,
     "end_time": "2022-09-04T22:36:50.455985",
     "exception": false,
     "start_time": "2022-09-04T22:36:50.405511",
     "status": "completed"
    },
    "tags": []
   },
   "outputs": [
    {
     "data": {
      "text/html": [
       "<div>\n",
       "<style scoped>\n",
       "    .dataframe tbody tr th:only-of-type {\n",
       "        vertical-align: middle;\n",
       "    }\n",
       "\n",
       "    .dataframe tbody tr th {\n",
       "        vertical-align: top;\n",
       "    }\n",
       "\n",
       "    .dataframe thead th {\n",
       "        text-align: right;\n",
       "    }\n",
       "</style>\n",
       "<table border=\"1\" class=\"dataframe\">\n",
       "  <thead>\n",
       "    <tr style=\"text-align: right;\">\n",
       "      <th></th>\n",
       "      <th>id</th>\n",
       "      <th>battery_power</th>\n",
       "      <th>blue</th>\n",
       "      <th>clock_speed</th>\n",
       "      <th>dual_sim</th>\n",
       "      <th>fc</th>\n",
       "      <th>four_g</th>\n",
       "      <th>int_memory</th>\n",
       "      <th>m_dep</th>\n",
       "      <th>mobile_wt</th>\n",
       "      <th>...</th>\n",
       "      <th>pc</th>\n",
       "      <th>px_height</th>\n",
       "      <th>px_width</th>\n",
       "      <th>ram</th>\n",
       "      <th>sc_h</th>\n",
       "      <th>sc_w</th>\n",
       "      <th>talk_time</th>\n",
       "      <th>three_g</th>\n",
       "      <th>touch_screen</th>\n",
       "      <th>wifi</th>\n",
       "    </tr>\n",
       "  </thead>\n",
       "  <tbody>\n",
       "    <tr>\n",
       "      <th>0</th>\n",
       "      <td>1</td>\n",
       "      <td>1043</td>\n",
       "      <td>1</td>\n",
       "      <td>1.8</td>\n",
       "      <td>1</td>\n",
       "      <td>14</td>\n",
       "      <td>0</td>\n",
       "      <td>5</td>\n",
       "      <td>0.1</td>\n",
       "      <td>193</td>\n",
       "      <td>...</td>\n",
       "      <td>16</td>\n",
       "      <td>226</td>\n",
       "      <td>1412</td>\n",
       "      <td>3476</td>\n",
       "      <td>12</td>\n",
       "      <td>7</td>\n",
       "      <td>2</td>\n",
       "      <td>0</td>\n",
       "      <td>1</td>\n",
       "      <td>0</td>\n",
       "    </tr>\n",
       "    <tr>\n",
       "      <th>1</th>\n",
       "      <td>2</td>\n",
       "      <td>841</td>\n",
       "      <td>1</td>\n",
       "      <td>0.5</td>\n",
       "      <td>1</td>\n",
       "      <td>4</td>\n",
       "      <td>1</td>\n",
       "      <td>61</td>\n",
       "      <td>0.8</td>\n",
       "      <td>191</td>\n",
       "      <td>...</td>\n",
       "      <td>12</td>\n",
       "      <td>746</td>\n",
       "      <td>857</td>\n",
       "      <td>3895</td>\n",
       "      <td>6</td>\n",
       "      <td>0</td>\n",
       "      <td>7</td>\n",
       "      <td>1</td>\n",
       "      <td>0</td>\n",
       "      <td>0</td>\n",
       "    </tr>\n",
       "    <tr>\n",
       "      <th>2</th>\n",
       "      <td>3</td>\n",
       "      <td>1807</td>\n",
       "      <td>1</td>\n",
       "      <td>2.8</td>\n",
       "      <td>0</td>\n",
       "      <td>1</td>\n",
       "      <td>0</td>\n",
       "      <td>27</td>\n",
       "      <td>0.9</td>\n",
       "      <td>186</td>\n",
       "      <td>...</td>\n",
       "      <td>4</td>\n",
       "      <td>1270</td>\n",
       "      <td>1366</td>\n",
       "      <td>2396</td>\n",
       "      <td>17</td>\n",
       "      <td>10</td>\n",
       "      <td>10</td>\n",
       "      <td>0</td>\n",
       "      <td>1</td>\n",
       "      <td>1</td>\n",
       "    </tr>\n",
       "    <tr>\n",
       "      <th>3</th>\n",
       "      <td>4</td>\n",
       "      <td>1546</td>\n",
       "      <td>0</td>\n",
       "      <td>0.5</td>\n",
       "      <td>1</td>\n",
       "      <td>18</td>\n",
       "      <td>1</td>\n",
       "      <td>25</td>\n",
       "      <td>0.5</td>\n",
       "      <td>96</td>\n",
       "      <td>...</td>\n",
       "      <td>20</td>\n",
       "      <td>295</td>\n",
       "      <td>1752</td>\n",
       "      <td>3893</td>\n",
       "      <td>10</td>\n",
       "      <td>0</td>\n",
       "      <td>7</td>\n",
       "      <td>1</td>\n",
       "      <td>1</td>\n",
       "      <td>0</td>\n",
       "    </tr>\n",
       "    <tr>\n",
       "      <th>4</th>\n",
       "      <td>5</td>\n",
       "      <td>1434</td>\n",
       "      <td>0</td>\n",
       "      <td>1.4</td>\n",
       "      <td>0</td>\n",
       "      <td>11</td>\n",
       "      <td>1</td>\n",
       "      <td>49</td>\n",
       "      <td>0.5</td>\n",
       "      <td>108</td>\n",
       "      <td>...</td>\n",
       "      <td>18</td>\n",
       "      <td>749</td>\n",
       "      <td>810</td>\n",
       "      <td>1773</td>\n",
       "      <td>15</td>\n",
       "      <td>8</td>\n",
       "      <td>7</td>\n",
       "      <td>1</td>\n",
       "      <td>0</td>\n",
       "      <td>1</td>\n",
       "    </tr>\n",
       "  </tbody>\n",
       "</table>\n",
       "<p>5 rows × 21 columns</p>\n",
       "</div>"
      ],
      "text/plain": [
       "   id  battery_power  blue  clock_speed  dual_sim  fc  four_g  int_memory  \\\n",
       "0   1           1043     1          1.8         1  14       0           5   \n",
       "1   2            841     1          0.5         1   4       1          61   \n",
       "2   3           1807     1          2.8         0   1       0          27   \n",
       "3   4           1546     0          0.5         1  18       1          25   \n",
       "4   5           1434     0          1.4         0  11       1          49   \n",
       "\n",
       "   m_dep  mobile_wt  ...  pc  px_height  px_width   ram  sc_h  sc_w  \\\n",
       "0    0.1        193  ...  16        226      1412  3476    12     7   \n",
       "1    0.8        191  ...  12        746       857  3895     6     0   \n",
       "2    0.9        186  ...   4       1270      1366  2396    17    10   \n",
       "3    0.5         96  ...  20        295      1752  3893    10     0   \n",
       "4    0.5        108  ...  18        749       810  1773    15     8   \n",
       "\n",
       "   talk_time  three_g  touch_screen  wifi  \n",
       "0          2        0             1     0  \n",
       "1          7        1             0     0  \n",
       "2         10        0             1     1  \n",
       "3          7        1             1     0  \n",
       "4          7        1             0     1  \n",
       "\n",
       "[5 rows x 21 columns]"
      ]
     },
     "execution_count": 32,
     "metadata": {},
     "output_type": "execute_result"
    }
   ],
   "source": [
    "df.head()"
   ]
  },
  {
   "cell_type": "code",
   "execution_count": 33,
   "id": "a6efafd8",
   "metadata": {
    "execution": {
     "iopub.execute_input": "2022-09-04T22:36:50.517157Z",
     "iopub.status.busy": "2022-09-04T22:36:50.516714Z",
     "iopub.status.idle": "2022-09-04T22:36:50.522164Z",
     "shell.execute_reply": "2022-09-04T22:36:50.521360Z"
    },
    "papermill": {
     "duration": 0.050858,
     "end_time": "2022-09-04T22:36:50.526087",
     "exception": false,
     "start_time": "2022-09-04T22:36:50.475229",
     "status": "completed"
    },
    "tags": []
   },
   "outputs": [],
   "source": [
    "df1=df.drop('id', axis = 1)"
   ]
  },
  {
   "cell_type": "code",
   "execution_count": 34,
   "id": "bfb9887c",
   "metadata": {
    "execution": {
     "iopub.execute_input": "2022-09-04T22:36:50.577638Z",
     "iopub.status.busy": "2022-09-04T22:36:50.577285Z",
     "iopub.status.idle": "2022-09-04T22:36:50.594896Z",
     "shell.execute_reply": "2022-09-04T22:36:50.594101Z"
    },
    "papermill": {
     "duration": 0.047568,
     "end_time": "2022-09-04T22:36:50.598414",
     "exception": false,
     "start_time": "2022-09-04T22:36:50.550846",
     "status": "completed"
    },
    "tags": []
   },
   "outputs": [],
   "source": [
    "for column in ['battery_power','int_memory','mobile_wt','px_height','px_width','ram']:\n",
    "    df1[column] = stand.fit_transform(df[column].values.reshape(-1,1))"
   ]
  },
  {
   "cell_type": "code",
   "execution_count": 35,
   "id": "2752153f",
   "metadata": {
    "execution": {
     "iopub.execute_input": "2022-09-04T22:36:50.660245Z",
     "iopub.status.busy": "2022-09-04T22:36:50.659833Z",
     "iopub.status.idle": "2022-09-04T22:36:50.680609Z",
     "shell.execute_reply": "2022-09-04T22:36:50.679451Z"
    },
    "papermill": {
     "duration": 0.050323,
     "end_time": "2022-09-04T22:36:50.684963",
     "exception": false,
     "start_time": "2022-09-04T22:36:50.634640",
     "status": "completed"
    },
    "tags": []
   },
   "outputs": [],
   "source": [
    "test_pred = grid_search.predict(df1)\n",
    "df['price range'] = test_pred"
   ]
  },
  {
   "cell_type": "code",
   "execution_count": 36,
   "id": "7595ab4c",
   "metadata": {
    "execution": {
     "iopub.execute_input": "2022-09-04T22:36:50.771017Z",
     "iopub.status.busy": "2022-09-04T22:36:50.770600Z",
     "iopub.status.idle": "2022-09-04T22:36:50.818217Z",
     "shell.execute_reply": "2022-09-04T22:36:50.817341Z"
    },
    "papermill": {
     "duration": 0.087537,
     "end_time": "2022-09-04T22:36:50.820766",
     "exception": false,
     "start_time": "2022-09-04T22:36:50.733229",
     "status": "completed"
    },
    "tags": []
   },
   "outputs": [
    {
     "data": {
      "text/html": [
       "<div>\n",
       "<style scoped>\n",
       "    .dataframe tbody tr th:only-of-type {\n",
       "        vertical-align: middle;\n",
       "    }\n",
       "\n",
       "    .dataframe tbody tr th {\n",
       "        vertical-align: top;\n",
       "    }\n",
       "\n",
       "    .dataframe thead th {\n",
       "        text-align: right;\n",
       "    }\n",
       "</style>\n",
       "<table border=\"1\" class=\"dataframe\">\n",
       "  <thead>\n",
       "    <tr style=\"text-align: right;\">\n",
       "      <th></th>\n",
       "      <th>id</th>\n",
       "      <th>battery_power</th>\n",
       "      <th>blue</th>\n",
       "      <th>clock_speed</th>\n",
       "      <th>dual_sim</th>\n",
       "      <th>fc</th>\n",
       "      <th>four_g</th>\n",
       "      <th>int_memory</th>\n",
       "      <th>m_dep</th>\n",
       "      <th>mobile_wt</th>\n",
       "      <th>...</th>\n",
       "      <th>px_height</th>\n",
       "      <th>px_width</th>\n",
       "      <th>ram</th>\n",
       "      <th>sc_h</th>\n",
       "      <th>sc_w</th>\n",
       "      <th>talk_time</th>\n",
       "      <th>three_g</th>\n",
       "      <th>touch_screen</th>\n",
       "      <th>wifi</th>\n",
       "      <th>price range</th>\n",
       "    </tr>\n",
       "  </thead>\n",
       "  <tbody>\n",
       "    <tr>\n",
       "      <th>0</th>\n",
       "      <td>1</td>\n",
       "      <td>1043</td>\n",
       "      <td>1</td>\n",
       "      <td>1.8</td>\n",
       "      <td>1</td>\n",
       "      <td>14</td>\n",
       "      <td>0</td>\n",
       "      <td>5</td>\n",
       "      <td>0.1</td>\n",
       "      <td>193</td>\n",
       "      <td>...</td>\n",
       "      <td>226</td>\n",
       "      <td>1412</td>\n",
       "      <td>3476</td>\n",
       "      <td>12</td>\n",
       "      <td>7</td>\n",
       "      <td>2</td>\n",
       "      <td>0</td>\n",
       "      <td>1</td>\n",
       "      <td>0</td>\n",
       "      <td>2</td>\n",
       "    </tr>\n",
       "    <tr>\n",
       "      <th>1</th>\n",
       "      <td>2</td>\n",
       "      <td>841</td>\n",
       "      <td>1</td>\n",
       "      <td>0.5</td>\n",
       "      <td>1</td>\n",
       "      <td>4</td>\n",
       "      <td>1</td>\n",
       "      <td>61</td>\n",
       "      <td>0.8</td>\n",
       "      <td>191</td>\n",
       "      <td>...</td>\n",
       "      <td>746</td>\n",
       "      <td>857</td>\n",
       "      <td>3895</td>\n",
       "      <td>6</td>\n",
       "      <td>0</td>\n",
       "      <td>7</td>\n",
       "      <td>1</td>\n",
       "      <td>0</td>\n",
       "      <td>0</td>\n",
       "      <td>3</td>\n",
       "    </tr>\n",
       "    <tr>\n",
       "      <th>2</th>\n",
       "      <td>3</td>\n",
       "      <td>1807</td>\n",
       "      <td>1</td>\n",
       "      <td>2.8</td>\n",
       "      <td>0</td>\n",
       "      <td>1</td>\n",
       "      <td>0</td>\n",
       "      <td>27</td>\n",
       "      <td>0.9</td>\n",
       "      <td>186</td>\n",
       "      <td>...</td>\n",
       "      <td>1270</td>\n",
       "      <td>1366</td>\n",
       "      <td>2396</td>\n",
       "      <td>17</td>\n",
       "      <td>10</td>\n",
       "      <td>10</td>\n",
       "      <td>0</td>\n",
       "      <td>1</td>\n",
       "      <td>1</td>\n",
       "      <td>2</td>\n",
       "    </tr>\n",
       "    <tr>\n",
       "      <th>3</th>\n",
       "      <td>4</td>\n",
       "      <td>1546</td>\n",
       "      <td>0</td>\n",
       "      <td>0.5</td>\n",
       "      <td>1</td>\n",
       "      <td>18</td>\n",
       "      <td>1</td>\n",
       "      <td>25</td>\n",
       "      <td>0.5</td>\n",
       "      <td>96</td>\n",
       "      <td>...</td>\n",
       "      <td>295</td>\n",
       "      <td>1752</td>\n",
       "      <td>3893</td>\n",
       "      <td>10</td>\n",
       "      <td>0</td>\n",
       "      <td>7</td>\n",
       "      <td>1</td>\n",
       "      <td>1</td>\n",
       "      <td>0</td>\n",
       "      <td>3</td>\n",
       "    </tr>\n",
       "    <tr>\n",
       "      <th>4</th>\n",
       "      <td>5</td>\n",
       "      <td>1434</td>\n",
       "      <td>0</td>\n",
       "      <td>1.4</td>\n",
       "      <td>0</td>\n",
       "      <td>11</td>\n",
       "      <td>1</td>\n",
       "      <td>49</td>\n",
       "      <td>0.5</td>\n",
       "      <td>108</td>\n",
       "      <td>...</td>\n",
       "      <td>749</td>\n",
       "      <td>810</td>\n",
       "      <td>1773</td>\n",
       "      <td>15</td>\n",
       "      <td>8</td>\n",
       "      <td>7</td>\n",
       "      <td>1</td>\n",
       "      <td>0</td>\n",
       "      <td>1</td>\n",
       "      <td>1</td>\n",
       "    </tr>\n",
       "  </tbody>\n",
       "</table>\n",
       "<p>5 rows × 22 columns</p>\n",
       "</div>"
      ],
      "text/plain": [
       "   id  battery_power  blue  clock_speed  dual_sim  fc  four_g  int_memory  \\\n",
       "0   1           1043     1          1.8         1  14       0           5   \n",
       "1   2            841     1          0.5         1   4       1          61   \n",
       "2   3           1807     1          2.8         0   1       0          27   \n",
       "3   4           1546     0          0.5         1  18       1          25   \n",
       "4   5           1434     0          1.4         0  11       1          49   \n",
       "\n",
       "   m_dep  mobile_wt  ...  px_height  px_width   ram  sc_h  sc_w  talk_time  \\\n",
       "0    0.1        193  ...        226      1412  3476    12     7          2   \n",
       "1    0.8        191  ...        746       857  3895     6     0          7   \n",
       "2    0.9        186  ...       1270      1366  2396    17    10         10   \n",
       "3    0.5         96  ...        295      1752  3893    10     0          7   \n",
       "4    0.5        108  ...        749       810  1773    15     8          7   \n",
       "\n",
       "   three_g  touch_screen  wifi  price range  \n",
       "0        0             1     0            2  \n",
       "1        1             0     0            3  \n",
       "2        0             1     1            2  \n",
       "3        1             1     0            3  \n",
       "4        1             0     1            1  \n",
       "\n",
       "[5 rows x 22 columns]"
      ]
     },
     "execution_count": 36,
     "metadata": {},
     "output_type": "execute_result"
    }
   ],
   "source": [
    "df.head()"
   ]
  }
 ],
 "metadata": {
  "kernelspec": {
   "display_name": "Python 3",
   "language": "python",
   "name": "python3"
  },
  "language_info": {
   "codemirror_mode": {
    "name": "ipython",
    "version": 3
   },
   "file_extension": ".py",
   "mimetype": "text/x-python",
   "name": "python",
   "nbconvert_exporter": "python",
   "pygments_lexer": "ipython3",
   "version": "3.7.12"
  },
  "papermill": {
   "default_parameters": {},
   "duration": 274.587395,
   "end_time": "2022-09-04T22:36:51.493337",
   "environment_variables": {},
   "exception": null,
   "input_path": "__notebook__.ipynb",
   "output_path": "__notebook__.ipynb",
   "parameters": {},
   "start_time": "2022-09-04T22:32:16.905942",
   "version": "2.3.4"
  }
 },
 "nbformat": 4,
 "nbformat_minor": 5
}
